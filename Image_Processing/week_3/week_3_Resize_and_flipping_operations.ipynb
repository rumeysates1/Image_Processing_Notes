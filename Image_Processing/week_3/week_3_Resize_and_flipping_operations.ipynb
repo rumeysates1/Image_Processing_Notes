{
 "cells": [
  {
   "cell_type": "code",
   "execution_count": null,
   "id": "3f73a506-a409-4db5-b4d1-74d1a34152ea",
   "metadata": {},
   "outputs": [],
   "source": [
    "import cv2\n",
    "import numpy as np"
   ]
  },
  {
   "cell_type": "code",
   "execution_count": null,
   "id": "f624b547-b43b-44db-a4cf-14d7488710c4",
   "metadata": {},
   "outputs": [],
   "source": [
    "my_img = cv2.imread(\"./kedi.jpg\",1)\n",
    "my_img.shape"
   ]
  },
  {
   "cell_type": "code",
   "execution_count": null,
   "id": "f488342f-1ab1-4f7b-a1be-d89251027d50",
   "metadata": {},
   "outputs": [],
   "source": [
    "cv2.imshow(\"RGB Image\",my_img)\n",
    "cv2.waitKey(0)\n",
    "cv2.destroyAllWindows()"
   ]
  },
  {
   "cell_type": "code",
   "execution_count": null,
   "id": "492fc7ea-77c4-48a0-bdcc-174615b8b55c",
   "metadata": {},
   "outputs": [],
   "source": [
    "vertical_img = cv2.flip(my_img,0)\n",
    "horizontal_img = cv2.flip(my_img,1)\n",
    "both_img = cv2.flip(my_img,-1)"
   ]
  },
  {
   "cell_type": "code",
   "execution_count": null,
   "id": "1207e88e-ce88-414c-a081-0db3639784e7",
   "metadata": {},
   "outputs": [],
   "source": [
    "cv2.imshow(\"Original Image\",my_img9\n",
    "cv2.imshow(\"Vetical Image\",vertical_img)\n",
    "cv2.imshow(\"Horizontal Image\",horizontal_img)\n",
    "cv2.imshow(\"Vertical and Horizontal Image\",both_img)\n",
    "cv2.waitKey(0)\n",
    "cv2.destroyAllWindows()"
   ]
  },
  {
   "cell_type": "code",
   "execution_count": null,
   "id": "af99b525-f32a-44c8-8e30-508a3c67c1dd",
   "metadata": {},
   "outputs": [],
   "source": [
    "new_vertical_img = my_img[::-1,:,.]"
   ]
  },
  {
   "cell_type": "code",
   "execution_count": null,
   "id": "c411741b-8ed6-480f-b98d-a6b6f791eb82",
   "metadata": {},
   "outputs": [],
   "source": [
    "new_horizontal_img = my_img[:,::-1,:]"
   ]
  },
  {
   "cell_type": "code",
   "execution_count": null,
   "id": "33d341e8-22aa-422c-868f-9d69b583cc9d",
   "metadata": {},
   "outputs": [],
   "source": [
    "new_both-img[::-1,:]"
   ]
  },
  {
   "cell_type": "code",
   "execution_count": null,
   "id": "bdef2d79-0570-4b44-a9fe-c3f9ccc1b894",
   "metadata": {},
   "outputs": [],
   "source": [
    "cv2.imshow(\"Original Image\",my_img)\n",
    "cv2.imshow(\"Vertical Image\",new_vertical_img)\n",
    "cv2.imshow(\"Horizontal Image\",new_horizontal_img)\n",
    "cv2.imshow(\"Vertical and Horizontal Image\",new_both-img)\n",
    "cv2.waitKey(0)\n",
    "cv2.destroyAllWindows()"
   ]
  },
  {
   "cell_type": "code",
   "execution_count": null,
   "id": "2b815e08-ac79-4a85-bbe8-aa765028c51a",
   "metadata": {},
   "outputs": [],
   "source": [
    "my_resized_img =cv2.resize(my_img,(400,250),cv2.INTER_LANCZOS4)\n",
    "\n",
    "cv2.imshow(\"Resized Image\",my_resized_img)\n",
    "cv2.waitKey(0)\n",
    "cv2.destroyAllWindows()"
   ]
  },
  {
   "cell_type": "code",
   "execution_count": null,
   "id": "1c822dd9-ca4b-417e-a84e-9e6cac6ac6ec",
   "metadata": {},
   "outputs": [],
   "source": [
    "cv2.imwrite(\"./resized_image_output.png\",my_resized_img)"
   ]
  },
  {
   "cell_type": "raw",
   "id": "e921fe89-b620-4124-b520-a740c3e0f360",
   "metadata": {},
   "source": []
  }
 ],
 "metadata": {
  "kernelspec": {
   "display_name": "my_env",
   "language": "python",
   "name": "my_env"
  },
  "language_info": {
   "codemirror_mode": {
    "name": "ipython",
    "version": 3
   },
   "file_extension": ".py",
   "mimetype": "text/x-python",
   "name": "python",
   "nbconvert_exporter": "python",
   "pygments_lexer": "ipython3",
   "version": "3.10.14"
  }
 },
 "nbformat": 4,
 "nbformat_minor": 5
}
